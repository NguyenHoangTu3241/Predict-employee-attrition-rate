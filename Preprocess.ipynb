{
 "cells": [
  {
   "cell_type": "code",
   "id": "initial_id",
   "metadata": {
    "collapsed": true,
    "ExecuteTime": {
     "end_time": "2024-12-01T09:16:03.891287Z",
     "start_time": "2024-12-01T09:16:00.847610Z"
    }
   },
   "source": [
    "import pandas as pd\n",
    "import numpy as np\n",
    "from sklearn.model_selection import train_test_split\n",
    "from sklearn.utils import shuffle\n",
    "from sklearn.experimental import enable_iterative_imputer\n",
    "from sklearn.impute import IterativeImputer"
   ],
   "outputs": [],
   "execution_count": 8
  },
  {
   "metadata": {},
   "cell_type": "markdown",
   "source": "Training and Test file",
   "id": "89cec36d95ceb3a3"
  },
  {
   "metadata": {
    "ExecuteTime": {
     "end_time": "2024-12-01T09:16:06.408918Z",
     "start_time": "2024-12-01T09:16:06.329254Z"
    }
   },
   "cell_type": "code",
   "source": [
    "train_df = pd.read_csv(\"Raw DataSet/[Dataset]_Module8_Train_(Employee).csv\")\n",
    "test_df = pd.read_csv(\"Raw DataSet/[Dataset]_Module8_Test_(Employee).csv\")"
   ],
   "id": "410c3b36f2eba166",
   "outputs": [],
   "execution_count": 9
  },
  {
   "metadata": {},
   "cell_type": "markdown",
   "source": "Split data\n",
   "id": "8be96f9443b60d07"
  },
  {
   "metadata": {
    "ExecuteTime": {
     "end_time": "2024-12-01T09:16:07.999206Z",
     "start_time": "2024-12-01T09:16:07.963200Z"
    }
   },
   "cell_type": "code",
   "source": [
    "combined_df = pd.concat([train_df, test_df])\n",
    "combined_df = shuffle(combined_df, random_state=42)\n",
    "\n",
    "train_ratio = 0.7\n",
    "validation_ratio = 0.1\n",
    "test_ratio = 0.2\n",
    "train_data, temp_data = train_test_split(combined_df, test_size=(validation_ratio + test_ratio), random_state=42)\n",
    "validation_data, test_data = train_test_split(temp_data, test_size=test_ratio / (validation_ratio + test_ratio), random_state=42)"
   ],
   "id": "fede837766e8f958",
   "outputs": [],
   "execution_count": 10
  },
  {
   "metadata": {},
   "cell_type": "markdown",
   "source": "Missing Data",
   "id": "147f4dcfcdbdcde9"
  },
  {
   "metadata": {
    "ExecuteTime": {
     "end_time": "2024-12-01T09:16:16.596536Z",
     "start_time": "2024-12-01T09:16:09.742302Z"
    }
   },
   "cell_type": "code",
   "source": [
    "for df in [train_data, validation_data, test_data]:\n",
    "    missing_cols = [col for col in df.columns if df[col].isnull().mean() > 0.4]\n",
    "    df.drop(columns=missing_cols, inplace=True)\n",
    "\n",
    "    cols_to_impute = df.columns.difference(['Age', 'Attrition_rate', 'Employee_ID', 'Hometown', 'Unit', 'Decision_skill_possess', 'Compensation_and_Benefits', 'Gender', 'Relationship_Status'])\n",
    "\n",
    "    if len(cols_to_impute)>0:\n",
    "        imp = IterativeImputer(max_iter=10, random_state=0)\n",
    "        df[cols_to_impute] = imp.fit_transform(df[cols_to_impute])\n",
    "\n",
    "    df['Age'] = df['Age'].fillna(df.groupby('Unit')['Age'].transform('median'))\n",
    "    df['Gender'] = df['Gender'].map({'M': 0, 'F': 1})\n",
    "    df['Relationship_Status'] = df['Relationship_Status'].map({'Married': 0, 'Single': 1})\n",
    "    df = pd.get_dummies(df, columns=['Hometown', 'Unit', 'Decision_skill_possess', 'Compensation_and_Benefits'])\n",
    "    df.drop(columns=['Employee_ID'], inplace=True)"
   ],
   "id": "1882c1d4de202d55",
   "outputs": [],
   "execution_count": 11
  },
  {
   "metadata": {
    "ExecuteTime": {
     "end_time": "2024-12-01T09:16:21.335468Z",
     "start_time": "2024-12-01T09:16:21.113453Z"
    }
   },
   "cell_type": "code",
   "source": [
    "train_data.to_csv(\"train.csv\", index=False)\n",
    "validation_data.to_csv(\"validation.csv\", index=False)\n",
    "test_data.to_csv(\"test.csv\", index=False)"
   ],
   "id": "10709d6b678ed26b",
   "outputs": [],
   "execution_count": 12
  }
 ],
 "metadata": {
  "kernelspec": {
   "display_name": "Python 3",
   "language": "python",
   "name": "python3"
  },
  "language_info": {
   "codemirror_mode": {
    "name": "ipython",
    "version": 2
   },
   "file_extension": ".py",
   "mimetype": "text/x-python",
   "name": "python",
   "nbconvert_exporter": "python",
   "pygments_lexer": "ipython2",
   "version": "2.7.6"
  }
 },
 "nbformat": 4,
 "nbformat_minor": 5
}
