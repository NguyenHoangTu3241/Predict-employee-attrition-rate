{
 "cells": [
  {
   "cell_type": "code",
   "id": "initial_id",
   "metadata": {
    "collapsed": true,
    "ExecuteTime": {
     "end_time": "2024-12-02T00:26:33.113059Z",
     "start_time": "2024-12-02T00:26:16.628119Z"
    }
   },
   "source": [
    "import pandas as pd\n",
    "import numpy as np\n",
    "from sklearn.model_selection import train_test_split\n",
    "from sklearn.utils import shuffle\n",
    "from sklearn.experimental import enable_iterative_imputer\n",
    "from sklearn.impute import IterativeImputer"
   ],
   "outputs": [],
   "execution_count": 1
  },
  {
   "metadata": {},
   "cell_type": "markdown",
   "source": "Training and Test file",
   "id": "89cec36d95ceb3a3"
  },
  {
   "metadata": {
    "ExecuteTime": {
     "end_time": "2024-12-02T01:39:05.490848Z",
     "start_time": "2024-12-02T01:39:05.214919Z"
    }
   },
   "cell_type": "code",
   "source": [
    "train_df = pd.read_csv(\"Raw DataSet/[Dataset]_Module8_Train_(Employee).csv\")\n",
    "test_df = pd.read_csv(\"Raw DataSet/[Dataset]_Module8_Test_(Employee).csv\")"
   ],
   "id": "410c3b36f2eba166",
   "outputs": [],
   "execution_count": 2
  },
  {
   "metadata": {},
   "cell_type": "markdown",
   "source": "Split data\n",
   "id": "8be96f9443b60d07"
  },
  {
   "metadata": {
    "ExecuteTime": {
     "end_time": "2024-12-02T01:39:55.102091Z",
     "start_time": "2024-12-02T01:39:55.085546Z"
    }
   },
   "cell_type": "code",
   "source": [
    "train_df = shuffle(train_df, random_state=42)\n",
    "\n",
    "train_ratio = 0.8\n",
    "validation_ratio = 0.2\n",
    "train_data, validation_data = train_test_split(train_df, test_size=validation_ratio, random_state=42)\n",
    "test_data = test_df"
   ],
   "id": "fede837766e8f958",
   "outputs": [],
   "execution_count": 4
  },
  {
   "metadata": {},
   "cell_type": "markdown",
   "source": "Missing Data",
   "id": "147f4dcfcdbdcde9"
  },
  {
   "metadata": {
    "ExecuteTime": {
     "end_time": "2024-12-02T01:39:58.440624Z",
     "start_time": "2024-12-02T01:39:56.903895Z"
    }
   },
   "cell_type": "code",
   "source": [
    "for df in [train_data, validation_data, test_data]:\n",
    "    missing_cols = [col for col in df.columns if df[col].isnull().mean() > 0.4]\n",
    "    df.drop(columns=missing_cols, inplace=True)\n",
    "\n",
    "    cols_to_impute = df.columns.difference(['Age', 'Attrition_rate', 'Employee_ID', 'Hometown', 'Unit', 'Decision_skill_possess', 'Compensation_and_Benefits', 'Gender', 'Relationship_Status'])\n",
    "\n",
    "    if len(cols_to_impute)>0:\n",
    "        imp = IterativeImputer(max_iter=10, random_state=0)\n",
    "        df[cols_to_impute] = imp.fit_transform(df[cols_to_impute])\n",
    "\n",
    "    df['Age'] = df['Age'].fillna(df.groupby('Unit')['Age'].transform('median'))\n",
    "    df['Gender'] = df['Gender'].map({'M': 0, 'F': 1})\n",
    "    df['Relationship_Status'] = df['Relationship_Status'].map({'Married': 0, 'Single': 1})\n",
    "    df = pd.get_dummies(df, columns=['Hometown', 'Unit', 'Decision_skill_possess', 'Compensation_and_Benefits'])\n",
    "    df.drop(columns=['Employee_ID'], inplace=True)"
   ],
   "id": "1882c1d4de202d55",
   "outputs": [],
   "execution_count": 5
  },
  {
   "metadata": {
    "ExecuteTime": {
     "end_time": "2024-12-02T01:40:03.302127Z",
     "start_time": "2024-12-02T01:40:03.141544Z"
    }
   },
   "cell_type": "code",
   "source": [
    "train_data.to_csv(\"train.csv\", index=False)\n",
    "validation_data.to_csv(\"validation.csv\", index=False)\n",
    "test_data.to_csv(\"test.csv\", index=False)"
   ],
   "id": "10709d6b678ed26b",
   "outputs": [],
   "execution_count": 6
  }
 ],
 "metadata": {
  "kernelspec": {
   "display_name": "Python 3",
   "language": "python",
   "name": "python3"
  },
  "language_info": {
   "codemirror_mode": {
    "name": "ipython",
    "version": 2
   },
   "file_extension": ".py",
   "mimetype": "text/x-python",
   "name": "python",
   "nbconvert_exporter": "python",
   "pygments_lexer": "ipython2",
   "version": "2.7.6"
  }
 },
 "nbformat": 4,
 "nbformat_minor": 5
}
