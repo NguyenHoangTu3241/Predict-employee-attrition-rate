{
 "cells": [
  {
   "cell_type": "code",
   "id": "initial_id",
   "metadata": {
    "collapsed": true,
    "ExecuteTime": {
     "end_time": "2024-12-01T09:45:05.046674Z",
     "start_time": "2024-12-01T09:45:05.038225Z"
    }
   },
   "source": [
    "import pandas as pd\n",
    "import numpy as np\n",
    "from sklearn.metrics import mean_squared_error\n",
    "from collections import Counter\n",
    "from Method.DecisionTree import DecisionTree"
   ],
   "outputs": [],
   "execution_count": 3
  },
  {
   "metadata": {
    "ExecuteTime": {
     "end_time": "2024-12-01T09:45:33.390569Z",
     "start_time": "2024-12-01T09:45:33.342639Z"
    }
   },
   "cell_type": "code",
   "source": [
    "train_data = pd.read_csv(\"Processed Data/train.csv\")\n",
    "validation_data = pd.read_csv(\"Processed Data/validation.csv\")"
   ],
   "id": "679b8594f8ecd1f6",
   "outputs": [],
   "execution_count": 5
  },
  {
   "metadata": {
    "ExecuteTime": {
     "end_time": "2024-12-01T09:51:04.496395Z",
     "start_time": "2024-12-01T09:51:04.471930Z"
    }
   },
   "cell_type": "code",
   "source": [
    "X_train = train_data.drop(columns=['Attrition_rate']).values\n",
    "y_train = train_data['Attrition_rate'].values"
   ],
   "id": "8ccc12fca9d37717",
   "outputs": [],
   "execution_count": 9
  },
  {
   "metadata": {
    "ExecuteTime": {
     "end_time": "2024-12-01T10:25:22.717950Z",
     "start_time": "2024-12-01T10:22:24.639767Z"
    }
   },
   "cell_type": "code",
   "source": [
    "model = DecisionTree(max_depth=50)\n",
    "model.fit(X_train, y_train)"
   ],
   "id": "d641e3e5c9610e2b",
   "outputs": [
    {
     "ename": "KeyboardInterrupt",
     "evalue": "",
     "output_type": "error",
     "traceback": [
      "\u001B[1;31m---------------------------------------------------------------------------\u001B[0m",
      "\u001B[1;31mKeyboardInterrupt\u001B[0m                         Traceback (most recent call last)",
      "Cell \u001B[1;32mIn[22], line 2\u001B[0m\n\u001B[0;32m      1\u001B[0m model \u001B[38;5;241m=\u001B[39m DecisionTree(max_depth\u001B[38;5;241m=\u001B[39m\u001B[38;5;241m200\u001B[39m)\n\u001B[1;32m----> 2\u001B[0m \u001B[43mmodel\u001B[49m\u001B[38;5;241;43m.\u001B[39;49m\u001B[43mfit\u001B[49m\u001B[43m(\u001B[49m\u001B[43mX_train\u001B[49m\u001B[43m,\u001B[49m\u001B[43m \u001B[49m\u001B[43my_train\u001B[49m\u001B[43m)\u001B[49m\n",
      "File \u001B[1;32mD:\\Predict-employee-attrition-rate\\Method\\DecisionTree.py:73\u001B[0m, in \u001B[0;36mDecisionTree.fit\u001B[1;34m(self, X, y, depth)\u001B[0m\n\u001B[0;32m     70\u001B[0m right_X \u001B[38;5;241m=\u001B[39m X[right_indices]\n\u001B[0;32m     71\u001B[0m right_y \u001B[38;5;241m=\u001B[39m y[right_indices]\n\u001B[1;32m---> 73\u001B[0m \u001B[38;5;28;43mself\u001B[39;49m\u001B[38;5;241;43m.\u001B[39;49m\u001B[43mfit\u001B[49m\u001B[43m(\u001B[49m\u001B[43mleft_X\u001B[49m\u001B[43m,\u001B[49m\u001B[43m \u001B[49m\u001B[43mleft_y\u001B[49m\u001B[43m,\u001B[49m\u001B[43m \u001B[49m\u001B[43mdepth\u001B[49m\u001B[43m \u001B[49m\u001B[38;5;241;43m+\u001B[39;49m\u001B[43m \u001B[49m\u001B[38;5;241;43m1\u001B[39;49m\u001B[43m)\u001B[49m\n\u001B[0;32m     74\u001B[0m \u001B[38;5;28mself\u001B[39m\u001B[38;5;241m.\u001B[39mfit(right_X, right_y, depth \u001B[38;5;241m+\u001B[39m \u001B[38;5;241m1\u001B[39m)\n",
      "File \u001B[1;32mD:\\Predict-employee-attrition-rate\\Method\\DecisionTree.py:73\u001B[0m, in \u001B[0;36mDecisionTree.fit\u001B[1;34m(self, X, y, depth)\u001B[0m\n\u001B[0;32m     70\u001B[0m right_X \u001B[38;5;241m=\u001B[39m X[right_indices]\n\u001B[0;32m     71\u001B[0m right_y \u001B[38;5;241m=\u001B[39m y[right_indices]\n\u001B[1;32m---> 73\u001B[0m \u001B[38;5;28;43mself\u001B[39;49m\u001B[38;5;241;43m.\u001B[39;49m\u001B[43mfit\u001B[49m\u001B[43m(\u001B[49m\u001B[43mleft_X\u001B[49m\u001B[43m,\u001B[49m\u001B[43m \u001B[49m\u001B[43mleft_y\u001B[49m\u001B[43m,\u001B[49m\u001B[43m \u001B[49m\u001B[43mdepth\u001B[49m\u001B[43m \u001B[49m\u001B[38;5;241;43m+\u001B[39;49m\u001B[43m \u001B[49m\u001B[38;5;241;43m1\u001B[39;49m\u001B[43m)\u001B[49m\n\u001B[0;32m     74\u001B[0m \u001B[38;5;28mself\u001B[39m\u001B[38;5;241m.\u001B[39mfit(right_X, right_y, depth \u001B[38;5;241m+\u001B[39m \u001B[38;5;241m1\u001B[39m)\n",
      "File \u001B[1;32mD:\\Predict-employee-attrition-rate\\Method\\DecisionTree.py:74\u001B[0m, in \u001B[0;36mDecisionTree.fit\u001B[1;34m(self, X, y, depth)\u001B[0m\n\u001B[0;32m     71\u001B[0m right_y \u001B[38;5;241m=\u001B[39m y[right_indices]\n\u001B[0;32m     73\u001B[0m \u001B[38;5;28mself\u001B[39m\u001B[38;5;241m.\u001B[39mfit(left_X, left_y, depth \u001B[38;5;241m+\u001B[39m \u001B[38;5;241m1\u001B[39m)\n\u001B[1;32m---> 74\u001B[0m \u001B[38;5;28;43mself\u001B[39;49m\u001B[38;5;241;43m.\u001B[39;49m\u001B[43mfit\u001B[49m\u001B[43m(\u001B[49m\u001B[43mright_X\u001B[49m\u001B[43m,\u001B[49m\u001B[43m \u001B[49m\u001B[43mright_y\u001B[49m\u001B[43m,\u001B[49m\u001B[43m \u001B[49m\u001B[43mdepth\u001B[49m\u001B[43m \u001B[49m\u001B[38;5;241;43m+\u001B[39;49m\u001B[43m \u001B[49m\u001B[38;5;241;43m1\u001B[39;49m\u001B[43m)\u001B[49m\n",
      "File \u001B[1;32mD:\\Predict-employee-attrition-rate\\Method\\DecisionTree.py:73\u001B[0m, in \u001B[0;36mDecisionTree.fit\u001B[1;34m(self, X, y, depth)\u001B[0m\n\u001B[0;32m     70\u001B[0m right_X \u001B[38;5;241m=\u001B[39m X[right_indices]\n\u001B[0;32m     71\u001B[0m right_y \u001B[38;5;241m=\u001B[39m y[right_indices]\n\u001B[1;32m---> 73\u001B[0m \u001B[38;5;28;43mself\u001B[39;49m\u001B[38;5;241;43m.\u001B[39;49m\u001B[43mfit\u001B[49m\u001B[43m(\u001B[49m\u001B[43mleft_X\u001B[49m\u001B[43m,\u001B[49m\u001B[43m \u001B[49m\u001B[43mleft_y\u001B[49m\u001B[43m,\u001B[49m\u001B[43m \u001B[49m\u001B[43mdepth\u001B[49m\u001B[43m \u001B[49m\u001B[38;5;241;43m+\u001B[39;49m\u001B[43m \u001B[49m\u001B[38;5;241;43m1\u001B[39;49m\u001B[43m)\u001B[49m\n\u001B[0;32m     74\u001B[0m \u001B[38;5;28mself\u001B[39m\u001B[38;5;241m.\u001B[39mfit(right_X, right_y, depth \u001B[38;5;241m+\u001B[39m \u001B[38;5;241m1\u001B[39m)\n",
      "File \u001B[1;32mD:\\Predict-employee-attrition-rate\\Method\\DecisionTree.py:58\u001B[0m, in \u001B[0;36mDecisionTree.fit\u001B[1;34m(self, X, y, depth)\u001B[0m\n\u001B[0;32m     55\u001B[0m     \u001B[38;5;28mself\u001B[39m\u001B[38;5;241m.\u001B[39mtree[depth] \u001B[38;5;241m=\u001B[39m Counter(y)\u001B[38;5;241m.\u001B[39mmost_common(\u001B[38;5;241m1\u001B[39m)[\u001B[38;5;241m0\u001B[39m][\u001B[38;5;241m0\u001B[39m]\n\u001B[0;32m     56\u001B[0m     \u001B[38;5;28;01mreturn\u001B[39;00m\n\u001B[1;32m---> 58\u001B[0m best_feature, best_threshold \u001B[38;5;241m=\u001B[39m \u001B[43mbest_split\u001B[49m\u001B[43m(\u001B[49m\u001B[43mX\u001B[49m\u001B[43m,\u001B[49m\u001B[43m \u001B[49m\u001B[43my\u001B[49m\u001B[43m)\u001B[49m\n\u001B[0;32m     59\u001B[0m \u001B[38;5;28;01mif\u001B[39;00m best_feature \u001B[38;5;129;01mis\u001B[39;00m \u001B[38;5;28;01mNone\u001B[39;00m:\n\u001B[0;32m     60\u001B[0m     \u001B[38;5;28mself\u001B[39m\u001B[38;5;241m.\u001B[39mtree[depth] \u001B[38;5;241m=\u001B[39m Counter(y)\u001B[38;5;241m.\u001B[39mmost_common(\u001B[38;5;241m1\u001B[39m)[\u001B[38;5;241m0\u001B[39m][\u001B[38;5;241m0\u001B[39m]\n",
      "File \u001B[1;32mD:\\Predict-employee-attrition-rate\\Method\\DecisionTree.py:31\u001B[0m, in \u001B[0;36mbest_split\u001B[1;34m(X, y)\u001B[0m\n\u001B[0;32m     29\u001B[0m thresholds \u001B[38;5;241m=\u001B[39m np\u001B[38;5;241m.\u001B[39munique(X[:, feature])\n\u001B[0;32m     30\u001B[0m \u001B[38;5;28;01mfor\u001B[39;00m threshold \u001B[38;5;129;01min\u001B[39;00m thresholds:\n\u001B[1;32m---> 31\u001B[0m     left_indices \u001B[38;5;241m=\u001B[39m \u001B[43mnp\u001B[49m\u001B[38;5;241;43m.\u001B[39;49m\u001B[43mwhere\u001B[49m\u001B[43m(\u001B[49m\u001B[43mX\u001B[49m\u001B[43m[\u001B[49m\u001B[43m:\u001B[49m\u001B[43m,\u001B[49m\u001B[43m \u001B[49m\u001B[43mfeature\u001B[49m\u001B[43m]\u001B[49m\u001B[43m \u001B[49m\u001B[38;5;241;43m<\u001B[39;49m\u001B[38;5;241;43m=\u001B[39;49m\u001B[43m \u001B[49m\u001B[43mthreshold\u001B[49m\u001B[43m)\u001B[49m[\u001B[38;5;241m0\u001B[39m]\n\u001B[0;32m     32\u001B[0m     right_indices \u001B[38;5;241m=\u001B[39m np\u001B[38;5;241m.\u001B[39mwhere(X[:, feature] \u001B[38;5;241m>\u001B[39m threshold)[\u001B[38;5;241m0\u001B[39m]\n\u001B[0;32m     34\u001B[0m     \u001B[38;5;28;01mif\u001B[39;00m \u001B[38;5;28mlen\u001B[39m(left_indices) \u001B[38;5;241m==\u001B[39m \u001B[38;5;241m0\u001B[39m \u001B[38;5;129;01mor\u001B[39;00m \u001B[38;5;28mlen\u001B[39m(right_indices) \u001B[38;5;241m==\u001B[39m \u001B[38;5;241m0\u001B[39m:\n",
      "\u001B[1;31mKeyboardInterrupt\u001B[0m: "
     ]
    }
   ],
   "execution_count": 22
  },
  {
   "metadata": {
    "ExecuteTime": {
     "end_time": "2024-12-01T10:22:08.167459Z",
     "start_time": "2024-12-01T10:22:08.133468Z"
    }
   },
   "cell_type": "code",
   "source": [
    "X_val = validation_data.drop(columns=['Attrition_rate']).values\n",
    "y_val = validation_data['Attrition_rate'].values\n",
    "\n",
    "y_pred = model.predict(X_val)\n",
    "rmse = mean_squared_error(y_val, y_pred, squared=False)\n",
    "print(f\"RMSE on validation set: {rmse}\")"
   ],
   "id": "288272711b61602e",
   "outputs": [
    {
     "ename": "KeyError",
     "evalue": "94",
     "output_type": "error",
     "traceback": [
      "\u001B[1;31m---------------------------------------------------------------------------\u001B[0m",
      "\u001B[1;31mKeyError\u001B[0m                                  Traceback (most recent call last)",
      "Cell \u001B[1;32mIn[21], line 4\u001B[0m\n\u001B[0;32m      1\u001B[0m X_val \u001B[38;5;241m=\u001B[39m validation_data\u001B[38;5;241m.\u001B[39mdrop(columns\u001B[38;5;241m=\u001B[39m[\u001B[38;5;124m'\u001B[39m\u001B[38;5;124mAttrition_rate\u001B[39m\u001B[38;5;124m'\u001B[39m])\u001B[38;5;241m.\u001B[39mvalues\n\u001B[0;32m      2\u001B[0m y_val \u001B[38;5;241m=\u001B[39m validation_data[\u001B[38;5;124m'\u001B[39m\u001B[38;5;124mAttrition_rate\u001B[39m\u001B[38;5;124m'\u001B[39m]\u001B[38;5;241m.\u001B[39mvalues\n\u001B[1;32m----> 4\u001B[0m y_pred \u001B[38;5;241m=\u001B[39m \u001B[43mmodel\u001B[49m\u001B[38;5;241;43m.\u001B[39;49m\u001B[43mpredict\u001B[49m\u001B[43m(\u001B[49m\u001B[43mX_val\u001B[49m\u001B[43m)\u001B[49m\n\u001B[0;32m      5\u001B[0m rmse \u001B[38;5;241m=\u001B[39m mean_squared_error(y_val, y_pred, squared\u001B[38;5;241m=\u001B[39m\u001B[38;5;28;01mFalse\u001B[39;00m)\n\u001B[0;32m      6\u001B[0m \u001B[38;5;28mprint\u001B[39m(\u001B[38;5;124mf\u001B[39m\u001B[38;5;124m\"\u001B[39m\u001B[38;5;124mRMSE on validation set: \u001B[39m\u001B[38;5;132;01m{\u001B[39;00mrmse\u001B[38;5;132;01m}\u001B[39;00m\u001B[38;5;124m\"\u001B[39m)\n",
      "File \u001B[1;32mD:\\Predict-employee-attrition-rate\\Method\\DecisionTree.py:86\u001B[0m, in \u001B[0;36mDecisionTree.predict\u001B[1;34m(self, X)\u001B[0m\n\u001B[0;32m     84\u001B[0m         \u001B[38;5;28;01melse\u001B[39;00m:\n\u001B[0;32m     85\u001B[0m             depth \u001B[38;5;241m=\u001B[39m \u001B[38;5;241m2\u001B[39m \u001B[38;5;241m*\u001B[39m depth \u001B[38;5;241m+\u001B[39m \u001B[38;5;241m2\u001B[39m\n\u001B[1;32m---> 86\u001B[0m     predictions\u001B[38;5;241m.\u001B[39mappend(\u001B[38;5;28;43mself\u001B[39;49m\u001B[38;5;241;43m.\u001B[39;49m\u001B[43mtree\u001B[49m\u001B[43m[\u001B[49m\u001B[43mdepth\u001B[49m\u001B[43m]\u001B[49m)\n\u001B[0;32m     88\u001B[0m \u001B[38;5;28;01mreturn\u001B[39;00m np\u001B[38;5;241m.\u001B[39marray(predictions)\n",
      "\u001B[1;31mKeyError\u001B[0m: 94"
     ]
    }
   ],
   "execution_count": 21
  },
  {
   "metadata": {},
   "cell_type": "code",
   "outputs": [],
   "execution_count": null,
   "source": [
    "test_data = pd.read_csv(\"test.csv\")\n",
    "X_test = test_data.drop(columns=['Attrition_rate']).values"
   ],
   "id": "153ac2e7b40b104c"
  },
  {
   "metadata": {},
   "cell_type": "code",
   "outputs": [],
   "execution_count": null,
   "source": [
    "y_test = test_data['Attrition_rate'].values\n",
    "y_pred_test = model.predict(X_test)"
   ],
   "id": "cb8e72470011007b"
  },
  {
   "metadata": {},
   "cell_type": "code",
   "outputs": [],
   "execution_count": null,
   "source": [
    "rmse = mean_squared_error(y_test, y_pred_test, squared=False)\n",
    "r2 = r2_score(y_test, y_pred_test)\n",
    "mae = mean_absolute_error(y_test, y_pred_test)\n",
    "\n",
    "print(f\"RMSE on test set: {rmse}\")\n",
    "print(f\"R-squared on test set: {r2}\")\n",
    "print(f\"MAE on test set: {mae}\")"
   ],
   "id": "f15bd35a925d277c"
  },
  {
   "metadata": {},
   "cell_type": "code",
   "outputs": [],
   "execution_count": null,
   "source": [
    "plt.figure(figsize=(8, 6))\n",
    "plt.scatter(y_test, y_pred_test, alpha=0.5)\n",
    "plt.xlabel(\"Actual Attrition Rate\")\n",
    "plt.ylabel(\"Predicted Attrition Rate\")\n",
    "plt.title(\"Actual vs. Predicted Attrition Rate (Test Set)\")\n",
    "plt.plot([y_test.min(), y_test.max()], [y_test.min(), y_test.max()], 'k--', lw=2)\n",
    "plt.show()"
   ],
   "id": "999c6e1bab28266"
  },
  {
   "metadata": {},
   "cell_type": "code",
   "outputs": [],
   "execution_count": null,
   "source": [
    "errors = y_test - y_pred_test\n",
    "plt.figure(figsize=(8, 6))\n",
    "plt.hist(errors, bins=30) # bins: số lượng cột trong biểu đồ histogram\n",
    "plt.xlabel(\"Prediction Errors\")\n",
    "plt.ylabel(\"Frequency\")\n",
    "plt.title(\"Distribution of Prediction Errors (Test Set)\")\n",
    "plt.show()\n"
   ],
   "id": "a89c529fba2f6411"
  },
  {
   "metadata": {},
   "cell_type": "code",
   "outputs": [],
   "execution_count": null,
   "source": [
    "plt.figure(figsize=(8, 6))\n",
    "plt.scatter(y_test, errors, alpha=0.5)\n",
    "plt.xlabel(\"Actual Attrition Rate\")\n",
    "plt.ylabel(\"Prediction Error\")\n",
    "plt.title(\"Prediction Error vs. Actual Attrition Rate (Test Set)\")\n",
    "plt.axhline(y=0, color='k', linestyle='--', lw=2) # Đường y=0\n",
    "plt.show()"
   ],
   "id": "f7ce9afe7ce16649"
  },
  {
   "metadata": {},
   "cell_type": "code",
   "outputs": [],
   "execution_count": null,
   "source": "",
   "id": "35f8d0e4b3c0b8ca"
  }
 ],
 "metadata": {
  "kernelspec": {
   "display_name": "Python 3",
   "language": "python",
   "name": "python3"
  },
  "language_info": {
   "codemirror_mode": {
    "name": "ipython",
    "version": 2
   },
   "file_extension": ".py",
   "mimetype": "text/x-python",
   "name": "python",
   "nbconvert_exporter": "python",
   "pygments_lexer": "ipython2",
   "version": "2.7.6"
  }
 },
 "nbformat": 4,
 "nbformat_minor": 5
}
