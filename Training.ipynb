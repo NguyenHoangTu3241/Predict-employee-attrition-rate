{
 "cells": [
  {
   "cell_type": "code",
   "id": "initial_id",
   "metadata": {
    "collapsed": true,
    "ExecuteTime": {
     "end_time": "2024-12-02T01:43:42.755720Z",
     "start_time": "2024-12-02T01:43:23.036419Z"
    }
   },
   "source": [
    "import pandas as pd\n",
    "import numpy as np\n",
    "from sklearn.metrics import mean_squared_error\n",
    "from collections import Counter\n",
    "from Method.GradientBoost import XGBoostRegressor as xgb\n",
    "from Method.DecisionTree import DecisionTree"
   ],
   "outputs": [],
   "execution_count": 1
  },
  {
   "metadata": {
    "ExecuteTime": {
     "end_time": "2024-12-02T01:44:16.615796Z",
     "start_time": "2024-12-02T01:44:16.566312Z"
    }
   },
   "cell_type": "code",
   "source": [
    "train_data = pd.read_csv(\"Processed Data/train.csv\")\n",
    "validation_data = pd.read_csv(\"Processed Data/validation.csv\")"
   ],
   "id": "679b8594f8ecd1f6",
   "outputs": [],
   "execution_count": 2
  },
  {
   "metadata": {
    "ExecuteTime": {
     "end_time": "2024-12-02T01:44:21.324285Z",
     "start_time": "2024-12-02T01:44:21.307457Z"
    }
   },
   "cell_type": "code",
   "source": [
    "X_train = train_data.drop(columns=['Attrition_rate']).values\n",
    "y_train = train_data['Attrition_rate'].values"
   ],
   "id": "8ccc12fca9d37717",
   "outputs": [],
   "execution_count": 3
  },
  {
   "metadata": {
    "ExecuteTime": {
     "end_time": "2024-12-02T02:09:30.265052Z",
     "start_time": "2024-12-02T01:51:20.324064Z"
    }
   },
   "cell_type": "code",
   "source": [
    "model = xgb()\n",
    "model.fit(X_train, y_train)"
   ],
   "id": "d641e3e5c9610e2b",
   "outputs": [],
   "execution_count": 4
  },
  {
   "metadata": {
    "ExecuteTime": {
     "end_time": "2024-12-02T02:09:36.890251Z",
     "start_time": "2024-12-02T02:09:36.838482Z"
    }
   },
   "cell_type": "code",
   "source": [
    "X_val = validation_data.drop(columns=['Attrition_rate']).values\n",
    "y_val = validation_data['Attrition_rate'].values\n",
    "\n",
    "y_pred = model.predict(X_val)"
   ],
   "id": "288272711b61602e",
   "outputs": [],
   "execution_count": 5
  },
  {
   "metadata": {
    "ExecuteTime": {
     "end_time": "2024-12-02T02:11:24.312993Z",
     "start_time": "2024-12-02T02:11:24.145784Z"
    }
   },
   "cell_type": "code",
   "source": [
    "rmse = mean_squared_error(y_val, y_pred, squared=False)\n",
    "print(f\"RMSE on validation set: {rmse}\")"
   ],
   "id": "fb16adf357cda115",
   "outputs": [
    {
     "name": "stdout",
     "output_type": "stream",
     "text": [
      "RMSE on validation set: 0.18060985030499724\n"
     ]
    },
    {
     "name": "stderr",
     "output_type": "stream",
     "text": [
      "C:\\Users\\HP\\AppData\\Local\\Packages\\PythonSoftwareFoundation.Python.3.11_qbz5n2kfra8p0\\LocalCache\\local-packages\\Python311\\site-packages\\sklearn\\metrics\\_regression.py:492: FutureWarning: 'squared' is deprecated in version 1.4 and will be removed in 1.6. To calculate the root mean squared error, use the function'root_mean_squared_error'.\n",
      "  warnings.warn(\n"
     ]
    }
   ],
   "execution_count": 6
  },
  {
   "metadata": {
    "ExecuteTime": {
     "end_time": "2024-12-02T02:12:15.499027Z",
     "start_time": "2024-12-02T02:12:15.462363Z"
    }
   },
   "cell_type": "code",
   "source": [
    "test_data = pd.read_csv(\"Processed Data/test.csv\")\n",
    "X_test = test_data.values"
   ],
   "id": "153ac2e7b40b104c",
   "outputs": [],
   "execution_count": 8
  },
  {
   "metadata": {
    "ExecuteTime": {
     "end_time": "2024-12-02T02:20:16.257163Z",
     "start_time": "2024-12-02T02:20:16.192058Z"
    }
   },
   "cell_type": "code",
   "source": "y_pred_test = model.predict(X_test)",
   "id": "cb8e72470011007b",
   "outputs": [],
   "execution_count": 10
  },
  {
   "metadata": {
    "ExecuteTime": {
     "end_time": "2024-12-02T02:23:13.961459Z",
     "start_time": "2024-12-02T02:23:13.874460Z"
    }
   },
   "cell_type": "code",
   "source": [
    "test_data['Attrition_rate'] = y_pred_test\n",
    "test_data.to_csv('test_predictions.csv', index=False)"
   ],
   "id": "4135ae37a0aeb5cc",
   "outputs": [],
   "execution_count": 12
  },
  {
   "metadata": {},
   "cell_type": "markdown",
   "source": "Cross Validation",
   "id": "ed100cae0b4fd67"
  },
  {
   "metadata": {},
   "cell_type": "code",
   "outputs": [],
   "execution_count": null,
   "source": "",
   "id": "f15bd35a925d277c"
  },
  {
   "metadata": {},
   "cell_type": "code",
   "outputs": [],
   "execution_count": null,
   "source": "",
   "id": "999c6e1bab28266"
  },
  {
   "metadata": {},
   "cell_type": "code",
   "outputs": [],
   "execution_count": null,
   "source": "",
   "id": "a89c529fba2f6411"
  },
  {
   "metadata": {},
   "cell_type": "code",
   "outputs": [],
   "execution_count": null,
   "source": "",
   "id": "f7ce9afe7ce16649"
  },
  {
   "metadata": {},
   "cell_type": "code",
   "outputs": [],
   "execution_count": null,
   "source": "",
   "id": "35f8d0e4b3c0b8ca"
  }
 ],
 "metadata": {
  "kernelspec": {
   "display_name": "Python 3",
   "language": "python",
   "name": "python3"
  },
  "language_info": {
   "codemirror_mode": {
    "name": "ipython",
    "version": 2
   },
   "file_extension": ".py",
   "mimetype": "text/x-python",
   "name": "python",
   "nbconvert_exporter": "python",
   "pygments_lexer": "ipython2",
   "version": "2.7.6"
  }
 },
 "nbformat": 4,
 "nbformat_minor": 5
}
